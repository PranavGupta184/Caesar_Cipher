{
 "cells": [
  {
   "cell_type": "code",
   "execution_count": 3,
   "id": "e846d706",
   "metadata": {},
   "outputs": [
    {
     "name": "stdout",
     "output_type": "stream",
     "text": [
      "Type 'encode' to encrypt, 'decode' to decrypt - decode\n",
      "Type your encoded message - Sudqdy Jxswd\n",
      "Type the shift number - 3\n",
      "Here is the decoded result, Pranav Gupta\n",
      "Type 'encode' to encrypt, 'decode' to decrypt - l\n",
      "Wrong Input\n",
      "Do you wish to continue? (Y - Yes, N - No)n\n"
     ]
    }
   ],
   "source": [
    "logo = \"\"\"           \n",
    " ,adPPYba, ,adPPYYba,  ,adPPYba, ,adPPYba, ,adPPYYba, 8b,dPPYba,  \n",
    "a8\"     \"\" \"\"     `Y8 a8P_____88 I8[    \"\" \"\"     `Y8 88P'   \"Y8  \n",
    "8b         ,adPPPPP88 8PP\"\"\"\"\"\"\"  `\"Y8ba,  ,adPPPPP88 88          \n",
    "\"8a,   ,aa 88,    ,88 \"8b,   ,aa aa    ]8I 88,    ,88 88          \n",
    " `\"Ybbd8\"' `\"8bbdP\"Y8  `\"Ybbd8\"' `\"YbbdP\"' `\"8bbdP\"Y8 88   \n",
    "            88             88                                 \n",
    "           \"\"             88                                 \n",
    "                          88                                 \n",
    " ,adPPYba, 88 8b,dPPYba,  88,dPPYba,   ,adPPYba, 8b,dPPYba,  \n",
    "a8\"     \"\" 88 88P'    \"8a 88P'    \"8a a8P_____88 88P'   \"Y8  \n",
    "8b         88 88       d8 88       88 8PP\"\"\"\"\"\"\" 88          \n",
    "\"8a,   ,aa 88 88b,   ,a8\" 88       88 \"8b,   ,aa 88          \n",
    " `\"Ybbd8\"' 88 88`YbbdP\"'  88       88  `\"Ybbd8\"' 88          \n",
    "              88                                             \n",
    "              88           \n",
    "\"\"\"\n",
    "ch='Y'\n",
    "while ch=='Y':\n",
    "    inp=input(\"Type 'encode' to encrypt, 'decode' to decrypt - \")\n",
    "    inp=inp.lower()\n",
    "    encoded_message=\"\"\n",
    "    decoded_message=\"\"\n",
    "    if inp=='encode':\n",
    "        message=input(\"Type your message to be encoded - \")\n",
    "        shift=int(input(\"Type the shift number - \"))\n",
    "        for i in message:\n",
    "            if i ==\" \":\n",
    "                encoded_message = encoded_message + \" \"\n",
    "            else:\n",
    "                encoded_message = encoded_message+  chr(ord(i)+shift) \n",
    "        print(f\"Here is the encoded result, {encoded_message}\")\n",
    "            \n",
    "    elif inp=='decode':\n",
    "        encoded_message=input(\"Type your encoded message - \")\n",
    "        shift=int(input(\"Type the shift number - \"))\n",
    "        for n in encoded_message:\n",
    "            if n == \" \":\n",
    "                decoded_message = decoded_message +\" \"\n",
    "            else:\n",
    "                decoded_message = decoded_message + chr(ord(n)-shift)\n",
    "        print(f\"Here is the decoded result, {decoded_message}\")\n",
    "    else:\n",
    "        print(\"Wrong Input\")\n",
    "        ch = input(\"Do you wish to continue? (Y - Yes, N - No)\")\n",
    "        ch=ch.upper()\n"
   ]
  },
  {
   "cell_type": "code",
   "execution_count": null,
   "id": "d38f6334",
   "metadata": {},
   "outputs": [],
   "source": [
    "a=\"Pranav\"\n",
    "b=2\n",
    "p=ord(a[0])+2\n",
    "q=chr(p)\n"
   ]
  },
  {
   "cell_type": "code",
   "execution_count": null,
   "id": "0f87de39",
   "metadata": {},
   "outputs": [],
   "source": []
  },
  {
   "cell_type": "code",
   "execution_count": null,
   "id": "3a53494e",
   "metadata": {},
   "outputs": [],
   "source": []
  },
  {
   "cell_type": "code",
   "execution_count": 1,
   "id": "3ce71cec",
   "metadata": {},
   "outputs": [
    {
     "name": "stdout",
     "output_type": "stream",
     "text": [
      "           \n",
      " ,adPPYba, ,adPPYYba,  ,adPPYba, ,adPPYba, ,adPPYYba, 8b,dPPYba,  \n",
      "a8\"     \"\" \"\"     `Y8 a8P_____88 I8[    \"\" \"\"     `Y8 88P'   \"Y8  \n",
      "8b         ,adPPPPP88 8PP\"  `\"Y8ba,  ,adPPPPP88 88          \n",
      "\"8a,   ,aa 88,    ,88 \"8b,   ,aa aa    ]8I 88,    ,88 88          \n",
      " `\"Ybbd8\"' `\"8bbdP\"Y8  `\"Ybbd8\"' `\"YbbdP\"' `\"8bbdP\"Y8 88   \n",
      "            88             88                                 \n",
      "           \"\"             88                                 \n",
      "                          88                                 \n",
      " ,adPPYba, 88 8b,dPPYba,  88,dPPYba,   ,adPPYba, 8b,dPPYba,  \n",
      "a8\"     \"\" 88 88P'    \"8a 88P'    \"8a a8P_____88 88P'   \"Y8  \n",
      "8b         88 88       d8 88       88 8PP\" 88          \n",
      "\"8a,   ,aa 88 88b,   ,a8\" 88       88 \"8b,   ,aa 88          \n",
      " `\"Ybbd8\"' 88 88`YbbdP\"'  88       88  `\"Ybbd8\"' 88          \n",
      "              88                                             \n",
      "              88           \n",
      "\n",
      "Type 'encode' to encrypt, 'decode' to decrypt.encode\n",
      "Type the message to be encoded - Pranav Guopta\n",
      "Enter the shift number - 3\n",
      "Here's the encoded message, Sudqdy Jxrswd\n",
      "Do you wish to enter again? (Y - Yes/N - No)yy\n"
     ]
    }
   ],
   "source": [
    "def encode(msg, shf):\n",
    "    msg1=\"\"\n",
    "    for i in msg:\n",
    "        if i == \" \":\n",
    "            msg1+=\" \"\n",
    "        else:\n",
    "            msg1+=chr(ord(i)+shf)\n",
    "    return msg1\n",
    "def decode(msg,shf):\n",
    "    d_msg=\"\"\n",
    "    for y in msg:\n",
    "        if y ==\" \":\n",
    "            d_msg+=\" \"\n",
    "        else:\n",
    "            d_msg+=chr(ord(y)-shf)\n",
    "    return d_msg\n",
    "def choice():\n",
    "    logo = \"\"\"           \n",
    " ,adPPYba, ,adPPYYba,  ,adPPYba, ,adPPYba, ,adPPYYba, 8b,dPPYba,  \n",
    "a8\"     \"\" \"\"     `Y8 a8P_____88 I8[    \"\" \"\"     `Y8 88P'   \"Y8  \n",
    "8b         ,adPPPPP88 8PP\"\"\"\"\"\"\"  `\"Y8ba,  ,adPPPPP88 88          \n",
    "\"8a,   ,aa 88,    ,88 \"8b,   ,aa aa    ]8I 88,    ,88 88          \n",
    " `\"Ybbd8\"' `\"8bbdP\"Y8  `\"Ybbd8\"' `\"YbbdP\"' `\"8bbdP\"Y8 88   \n",
    "            88             88                                 \n",
    "           \"\"             88                                 \n",
    "                          88                                 \n",
    " ,adPPYba, 88 8b,dPPYba,  88,dPPYba,   ,adPPYba, 8b,dPPYba,  \n",
    "a8\"     \"\" 88 88P'    \"8a 88P'    \"8a a8P_____88 88P'   \"Y8  \n",
    "8b         88 88       d8 88       88 8PP\"\"\"\"\"\"\" 88          \n",
    "\"8a,   ,aa 88 88b,   ,a8\" 88       88 \"8b,   ,aa 88          \n",
    " `\"Ybbd8\"' 88 88`YbbdP\"'  88       88  `\"Ybbd8\"' 88          \n",
    "              88                                             \n",
    "              88           \n",
    "\"\"\"\n",
    "    print(logo)\n",
    "    inp3='y'\n",
    "    while inp3=='y':\n",
    "        inp=input(\"Type 'encode' to encrypt, 'decode' to decrypt.\")\n",
    "        inp=inp.lower()\n",
    "        if inp=='encode':\n",
    "            message=input(\"Type the message to be encoded - \")\n",
    "            shift=int(input(\"Enter the shift number - \"))\n",
    "            shift=shift%26\n",
    "            encoded_message= encode(message, shift)\n",
    "            print(f\"Here's the encoded message, {encoded_message}\")\n",
    "            inp3=input(\"Do you wish to enter again? (Y - Yes/N - No)\")\n",
    "            inp3=inp3.lower()\n",
    "        elif inp=='decode':\n",
    "            message=input(\"Type the encoded message - \")\n",
    "            shift=int(input(\"Type the shift number - \"))\n",
    "            shift=shift%26\n",
    "            decoded_message = decode(message, shift)\n",
    "            print(f\"Here's the decoded message, {decoded_message}\")\n",
    "            inp3=input(\"Do you wish to enter again? (Y - Yes/N - No)\")\n",
    "            inp3=inp3.lower()\n",
    "        else:\n",
    "            print(\"Wrong Input\")\n",
    "            inp3=input(\"Do you wish to enter again? (Y - Yes/N - No)\")\n",
    "            inp3=inp3.lower()\n",
    "choice()"
   ]
  },
  {
   "cell_type": "code",
   "execution_count": null,
   "id": "340f5fa8",
   "metadata": {},
   "outputs": [],
   "source": [
    "10 % 26 = 10"
   ]
  },
  {
   "cell_type": "code",
   "execution_count": null,
   "id": "9523ea5e",
   "metadata": {},
   "outputs": [],
   "source": []
  },
  {
   "cell_type": "code",
   "execution_count": null,
   "id": "60e7ab4d",
   "metadata": {},
   "outputs": [],
   "source": []
  },
  {
   "cell_type": "code",
   "execution_count": null,
   "id": "123ecadd",
   "metadata": {},
   "outputs": [],
   "source": []
  },
  {
   "cell_type": "code",
   "execution_count": null,
   "id": "8f674c7e",
   "metadata": {},
   "outputs": [],
   "source": []
  },
  {
   "cell_type": "code",
   "execution_count": null,
   "id": "72a9f093",
   "metadata": {},
   "outputs": [],
   "source": []
  },
  {
   "cell_type": "code",
   "execution_count": null,
   "id": "9f845896",
   "metadata": {},
   "outputs": [],
   "source": []
  },
  {
   "cell_type": "code",
   "execution_count": null,
   "id": "8013013f",
   "metadata": {},
   "outputs": [],
   "source": []
  },
  {
   "cell_type": "code",
   "execution_count": null,
   "id": "4f319131",
   "metadata": {},
   "outputs": [],
   "source": []
  },
  {
   "cell_type": "code",
   "execution_count": null,
   "id": "c5742883",
   "metadata": {},
   "outputs": [],
   "source": []
  },
  {
   "cell_type": "code",
   "execution_count": null,
   "id": "2e44aeeb",
   "metadata": {},
   "outputs": [],
   "source": []
  },
  {
   "cell_type": "code",
   "execution_count": null,
   "id": "84fb585d",
   "metadata": {},
   "outputs": [],
   "source": []
  }
 ],
 "metadata": {
  "kernelspec": {
   "display_name": "Python 3 (ipykernel)",
   "language": "python",
   "name": "python3"
  },
  "language_info": {
   "codemirror_mode": {
    "name": "ipython",
    "version": 3
   },
   "file_extension": ".py",
   "mimetype": "text/x-python",
   "name": "python",
   "nbconvert_exporter": "python",
   "pygments_lexer": "ipython3",
   "version": "3.9.12"
  }
 },
 "nbformat": 4,
 "nbformat_minor": 5
}
